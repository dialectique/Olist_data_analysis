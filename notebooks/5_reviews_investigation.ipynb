{
 "cells": [
  {
   "cell_type": "markdown",
   "id": "bcb18924",
   "metadata": {},
   "source": [
    "# Analysis of Olist reviews "
   ]
  },
  {
   "cell_type": "markdown",
   "id": "c40327b0",
   "metadata": {},
   "source": [
    "Analyse the Olist reviews to understand what could be the causes of the bad review scores."
   ]
  },
  {
   "cell_type": "code",
   "execution_count": 1,
   "id": "811387bd",
   "metadata": {},
   "outputs": [],
   "source": [
    "# import modules \n",
    "\n",
    "import pandas as pd\n",
    "import numpy as np \n",
    "import string\n",
    "import unidecode\n",
    "\n",
    "from nltk.tokenize import word_tokenize\n",
    "from nltk.corpus import stopwords \n",
    "\n",
    "from sklearn.feature_extraction.text import TfidfVectorizer\n",
    "from sklearn.decomposition import LatentDirichletAllocation\n",
    "from sklearn.pipeline import Pipeline\n",
    "\n",
    "from googletrans import Translator\n",
    "\n",
    "from olistpackage.data import Olist"
   ]
  },
  {
   "cell_type": "code",
   "execution_count": 2,
   "id": "e3f5eb66",
   "metadata": {},
   "outputs": [],
   "source": [
    "# magic commands\n",
    "\n",
    "%load_ext autoreload\n",
    "%autoreload 2"
   ]
  },
  {
   "cell_type": "code",
   "execution_count": 3,
   "id": "54df7e88",
   "metadata": {},
   "outputs": [],
   "source": [
    "# Instantiate the Olist class \n",
    "# which main purpose is downloading Olist csv files.\n",
    "\n",
    "olist = Olist()"
   ]
  },
  {
   "cell_type": "code",
   "execution_count": 4,
   "id": "df279ff7",
   "metadata": {},
   "outputs": [
    {
     "name": "stdout",
     "output_type": "stream",
     "text": [
      "The Olist csv files are already downloaded.\n"
     ]
    }
   ],
   "source": [
    "# Download Olist csv files in root/data/csv folder.\n",
    "# If all the csv files exists already, do nothing.\n",
    "# Uses the Kaggle Official API for donwloading Olist csv files.\n",
    "# Kaggle Official API credentials are asked by opendatasets.download().\n",
    "# Sign in to https://kaggle.com/, then click on your profile picture\n",
    "# on the top right and select \"My Account\" from the menu.\n",
    "# Scroll down to the \"API\" section and click \"Create New API Token\".\n",
    "# This will download a file kaggle.json with the following contents:\n",
    "# {\"username\":\"YOUR_KAGGLE_USERNAME\",\"key\":\"YOUR_KAGGLE_KEY\"}\n",
    "\n",
    "olist.download_data()"
   ]
  },
  {
   "cell_type": "code",
   "execution_count": 5,
   "id": "2db050a8",
   "metadata": {},
   "outputs": [],
   "source": [
    "# get the Olist csv files data into a dictionary of dataframes\n",
    "data = olist.get_data()"
   ]
  },
  {
   "cell_type": "code",
   "execution_count": 6,
   "id": "c82882e0",
   "metadata": {},
   "outputs": [],
   "source": [
    "# get the dataframe on which the sentiment analysis will be done\n",
    "df = data['order_reviews'].merge(data['orders'], on=\"order_id\", how=\"inner\")"
   ]
  },
  {
   "cell_type": "code",
   "execution_count": 7,
   "id": "a18bb6b6",
   "metadata": {},
   "outputs": [
    {
     "data": {
      "text/plain": [
       "(99224, 14)"
      ]
     },
     "execution_count": 7,
     "metadata": {},
     "output_type": "execute_result"
    }
   ],
   "source": [
    "df.shape"
   ]
  },
  {
   "cell_type": "code",
   "execution_count": 8,
   "id": "80539105",
   "metadata": {},
   "outputs": [
    {
     "data": {
      "text/plain": [
       "Index(['review_id', 'order_id', 'review_score', 'review_comment_title',\n",
       "       'review_comment_message', 'review_creation_date',\n",
       "       'review_answer_timestamp', 'customer_id', 'order_status',\n",
       "       'order_purchase_timestamp', 'order_approved_at',\n",
       "       'order_delivered_carrier_date', 'order_delivered_customer_date',\n",
       "       'order_estimated_delivery_date'],\n",
       "      dtype='object')"
      ]
     },
     "execution_count": 8,
     "metadata": {},
     "output_type": "execute_result"
    }
   ],
   "source": [
    "df.columns"
   ]
  },
  {
   "cell_type": "code",
   "execution_count": 9,
   "id": "045fe206",
   "metadata": {},
   "outputs": [],
   "source": [
    "# combine review title and review message\n",
    "\n",
    "df[\"review_title_and_message\"] = df[\"review_comment_title\"].fillna(\"\") \\\n",
    "    + \" \" + df[\"review_comment_message\"].fillna(\"\")"
   ]
  },
  {
   "cell_type": "code",
   "execution_count": 10,
   "id": "695b1732",
   "metadata": {},
   "outputs": [
    {
     "data": {
      "text/plain": [
       "(88039, 15)"
      ]
     },
     "execution_count": 10,
     "metadata": {},
     "output_type": "execute_result"
    }
   ],
   "source": [
    "# Customers could review an order before receiving it\n",
    "# Let's consider reviews written only after receiving the order \n",
    "\n",
    "df = df.query(\"review_creation_date >= order_delivered_customer_date\")\n",
    "df.shape"
   ]
  },
  {
   "cell_type": "code",
   "execution_count": 11,
   "id": "1cc12a13",
   "metadata": {},
   "outputs": [
    {
     "data": {
      "text/plain": [
       "['de',\n",
       " 'a',\n",
       " 'o',\n",
       " 'que',\n",
       " 'e',\n",
       " 'é',\n",
       " 'do',\n",
       " 'da',\n",
       " 'em',\n",
       " 'um',\n",
       " 'para',\n",
       " 'com',\n",
       " 'não',\n",
       " 'uma',\n",
       " 'os',\n",
       " 'no',\n",
       " 'se',\n",
       " 'na',\n",
       " 'por',\n",
       " 'mais',\n",
       " 'as',\n",
       " 'dos',\n",
       " 'como',\n",
       " 'mas',\n",
       " 'ao',\n",
       " 'ele',\n",
       " 'das',\n",
       " 'à',\n",
       " 'seu',\n",
       " 'sua',\n",
       " 'ou',\n",
       " 'quando',\n",
       " 'muito',\n",
       " 'nos',\n",
       " 'já',\n",
       " 'eu',\n",
       " 'também',\n",
       " 'só',\n",
       " 'pelo',\n",
       " 'pela',\n",
       " 'até',\n",
       " 'isso',\n",
       " 'ela',\n",
       " 'entre',\n",
       " 'depois',\n",
       " 'sem',\n",
       " 'mesmo',\n",
       " 'aos',\n",
       " 'seus',\n",
       " 'quem',\n",
       " 'nas',\n",
       " 'me',\n",
       " 'esse',\n",
       " 'eles',\n",
       " 'você',\n",
       " 'essa',\n",
       " 'num',\n",
       " 'nem',\n",
       " 'suas',\n",
       " 'meu',\n",
       " 'às',\n",
       " 'minha',\n",
       " 'numa',\n",
       " 'pelos',\n",
       " 'elas',\n",
       " 'qual',\n",
       " 'nós',\n",
       " 'lhe',\n",
       " 'deles',\n",
       " 'essas',\n",
       " 'esses',\n",
       " 'pelas',\n",
       " 'este',\n",
       " 'dele',\n",
       " 'tu',\n",
       " 'te',\n",
       " 'vocês',\n",
       " 'vos',\n",
       " 'lhes',\n",
       " 'meus',\n",
       " 'minhas',\n",
       " 'teu',\n",
       " 'tua',\n",
       " 'teus',\n",
       " 'tuas',\n",
       " 'nosso',\n",
       " 'nossa',\n",
       " 'nossos',\n",
       " 'nossas',\n",
       " 'dela',\n",
       " 'delas',\n",
       " 'esta',\n",
       " 'estes',\n",
       " 'estas',\n",
       " 'aquele',\n",
       " 'aquela',\n",
       " 'aqueles',\n",
       " 'aquelas',\n",
       " 'isto',\n",
       " 'aquilo',\n",
       " 'estou',\n",
       " 'está',\n",
       " 'estamos',\n",
       " 'estão',\n",
       " 'estive',\n",
       " 'esteve',\n",
       " 'estivemos',\n",
       " 'estiveram',\n",
       " 'estava',\n",
       " 'estávamos',\n",
       " 'estavam',\n",
       " 'estivera',\n",
       " 'estivéramos',\n",
       " 'esteja',\n",
       " 'estejamos',\n",
       " 'estejam',\n",
       " 'estivesse',\n",
       " 'estivéssemos',\n",
       " 'estivessem',\n",
       " 'estiver',\n",
       " 'estivermos',\n",
       " 'estiverem',\n",
       " 'hei',\n",
       " 'há',\n",
       " 'havemos',\n",
       " 'hão',\n",
       " 'houve',\n",
       " 'houvemos',\n",
       " 'houveram',\n",
       " 'houvera',\n",
       " 'houvéramos',\n",
       " 'haja',\n",
       " 'hajamos',\n",
       " 'hajam',\n",
       " 'houvesse',\n",
       " 'houvéssemos',\n",
       " 'houvessem',\n",
       " 'houver',\n",
       " 'houvermos',\n",
       " 'houverem',\n",
       " 'houverei',\n",
       " 'houverá',\n",
       " 'houveremos',\n",
       " 'houverão',\n",
       " 'houveria',\n",
       " 'houveríamos',\n",
       " 'houveriam',\n",
       " 'sou',\n",
       " 'somos',\n",
       " 'são',\n",
       " 'era',\n",
       " 'éramos',\n",
       " 'eram',\n",
       " 'fui',\n",
       " 'foi',\n",
       " 'fomos',\n",
       " 'foram',\n",
       " 'fora',\n",
       " 'fôramos',\n",
       " 'seja',\n",
       " 'sejamos',\n",
       " 'sejam',\n",
       " 'fosse',\n",
       " 'fôssemos',\n",
       " 'fossem',\n",
       " 'for',\n",
       " 'formos',\n",
       " 'forem',\n",
       " 'serei',\n",
       " 'será',\n",
       " 'seremos',\n",
       " 'serão',\n",
       " 'seria',\n",
       " 'seríamos',\n",
       " 'seriam',\n",
       " 'tenho',\n",
       " 'tem',\n",
       " 'temos',\n",
       " 'tém',\n",
       " 'tinha',\n",
       " 'tínhamos',\n",
       " 'tinham',\n",
       " 'tive',\n",
       " 'teve',\n",
       " 'tivemos',\n",
       " 'tiveram',\n",
       " 'tivera',\n",
       " 'tivéramos',\n",
       " 'tenha',\n",
       " 'tenhamos',\n",
       " 'tenham',\n",
       " 'tivesse',\n",
       " 'tivéssemos',\n",
       " 'tivessem',\n",
       " 'tiver',\n",
       " 'tivermos',\n",
       " 'tiverem',\n",
       " 'terei',\n",
       " 'terá',\n",
       " 'teremos',\n",
       " 'terão',\n",
       " 'teria',\n",
       " 'teríamos',\n",
       " 'teriam']"
      ]
     },
     "execution_count": 11,
     "metadata": {},
     "output_type": "execute_result"
    }
   ],
   "source": [
    "# check the stop words list before cleaning the reviews\n",
    "list(stopwords.words(\"portuguese\"))"
   ]
  },
  {
   "cell_type": "code",
   "execution_count": 12,
   "id": "627a7e69",
   "metadata": {},
   "outputs": [],
   "source": [
    "# Cleaning the reviews\n",
    "\n",
    "def remove_punctuation(text=\"\"):\n",
    "    return \"\".join([char for char in text if char not in string.punctuation])\n",
    "\n",
    "def lower_case(text=\"\"):\n",
    "    return text.lower()\n",
    "\n",
    "def remove_number(text=\"\"):\n",
    "    return \"\".join([char for char in text if not char.isdigit()])\n",
    "\n",
    "def remove_accents_diacritics(text=\"\"):\n",
    "    return unidecode.unidecode(text)\n",
    "\n",
    "def tokenize(text=\"\"):\n",
    "    return word_tokenize(text)\n",
    "    \n",
    "\n",
    "def stop_words(text=\"\"):\n",
    "    return \" \".join([word for word in text if word not in stopwords.words(\"portuguese\")])\n",
    "\n",
    "def strip_white_spaces(text=\"\"):\n",
    "    return text.strip()\n",
    "\n",
    "funcs = [\n",
    "    remove_punctuation,\n",
    "    lower_case,\n",
    "    remove_number,\n",
    "    remove_accents_diacritics,\n",
    "    tokenize,\n",
    "    stop_words,\n",
    "    strip_white_spaces\n",
    "]\n",
    "\n",
    "def clean(text=\"\"):\n",
    "    for f in funcs:\n",
    "        text = f(text)\n",
    "    return text"
   ]
  },
  {
   "cell_type": "code",
   "execution_count": 13,
   "id": "92100059",
   "metadata": {},
   "outputs": [
    {
     "data": {
      "text/plain": [
       "(88039, 16)"
      ]
     },
     "execution_count": 13,
     "metadata": {},
     "output_type": "execute_result"
    }
   ],
   "source": [
    "# Create a new column for cleaned reviews and call clean function on it\n",
    "\n",
    "df[\"clean_review\"] = df[\"review_title_and_message\"].apply(clean)\n",
    "df.shape"
   ]
  },
  {
   "cell_type": "code",
   "execution_count": 14,
   "id": "d95ca2a9",
   "metadata": {},
   "outputs": [
    {
     "data": {
      "text/plain": [
       "(35983, 16)"
      ]
     },
     "execution_count": 14,
     "metadata": {},
     "output_type": "execute_result"
    }
   ],
   "source": [
    "# drop the empty reviews\n",
    "\n",
    "df = df[df[\"clean_review\"] != \"\"]\n",
    "df.shape"
   ]
  },
  {
   "cell_type": "markdown",
   "id": "601fef38",
   "metadata": {},
   "source": [
    "The dataset contains more than 35000 cleaned reviews."
   ]
  },
  {
   "cell_type": "code",
   "execution_count": 15,
   "id": "d30c3a1d",
   "metadata": {},
   "outputs": [
    {
     "data": {
      "text/plain": [
       "array([1, 2, 3, 4, 5])"
      ]
     },
     "execution_count": 15,
     "metadata": {},
     "output_type": "execute_result"
    }
   ],
   "source": [
    "# Check the unique values of reviews score\n",
    "\n",
    "np.sort(df['review_score'].unique())"
   ]
  },
  {
   "cell_type": "code",
   "execution_count": 16,
   "id": "81b42ebf",
   "metadata": {},
   "outputs": [
    {
     "data": {
      "text/plain": [
       "5    0.57\n",
       "4    0.16\n",
       "1    0.13\n",
       "3    0.09\n",
       "2    0.05\n",
       "Name: review_score, dtype: float64"
      ]
     },
     "execution_count": 16,
     "metadata": {},
     "output_type": "execute_result"
    }
   ],
   "source": [
    "# review score distribution\n",
    "\n",
    "round(df[\"review_score\"].value_counts(normalize = True), 2)"
   ]
  },
  {
   "cell_type": "markdown",
   "id": "4d4eb750",
   "metadata": {},
   "source": [
    "More than 25% of the orders with a review have a score equal or below to 3.\n",
    "Let's focus on those orders' reviews."
   ]
  },
  {
   "cell_type": "code",
   "execution_count": 17,
   "id": "7f5764cf",
   "metadata": {},
   "outputs": [
    {
     "data": {
      "text/plain": [
       "(9599, 16)"
      ]
     },
     "execution_count": 17,
     "metadata": {},
     "output_type": "execute_result"
    }
   ],
   "source": [
    "df = df[df[\"review_score\"]<=3]\n",
    "df.shape"
   ]
  },
  {
   "cell_type": "markdown",
   "id": "451de970",
   "metadata": {},
   "source": [
    "The sentiment analysis will be done on 9599 cleaned reviews."
   ]
  },
  {
   "cell_type": "code",
   "execution_count": 18,
   "id": "8817d392",
   "metadata": {},
   "outputs": [],
   "source": [
    "# Create Pipeline with TfidfVectorizer and LatentDirichletAllocation\n",
    "# to vizualize potential topics\n",
    "\n",
    "pipeline = Pipeline([\n",
    "    ('TfidfVectorizer', TfidfVectorizer(ngram_range=(2, 2))),\n",
    "    ('LatentDirichletAllocation', LatentDirichletAllocation(n_components=2))\n",
    "])"
   ]
  },
  {
   "cell_type": "code",
   "execution_count": 19,
   "id": "eba26437",
   "metadata": {},
   "outputs": [
    {
     "data": {
      "text/html": [
       "<style>#sk-container-id-1 {color: black;background-color: white;}#sk-container-id-1 pre{padding: 0;}#sk-container-id-1 div.sk-toggleable {background-color: white;}#sk-container-id-1 label.sk-toggleable__label {cursor: pointer;display: block;width: 100%;margin-bottom: 0;padding: 0.3em;box-sizing: border-box;text-align: center;}#sk-container-id-1 label.sk-toggleable__label-arrow:before {content: \"▸\";float: left;margin-right: 0.25em;color: #696969;}#sk-container-id-1 label.sk-toggleable__label-arrow:hover:before {color: black;}#sk-container-id-1 div.sk-estimator:hover label.sk-toggleable__label-arrow:before {color: black;}#sk-container-id-1 div.sk-toggleable__content {max-height: 0;max-width: 0;overflow: hidden;text-align: left;background-color: #f0f8ff;}#sk-container-id-1 div.sk-toggleable__content pre {margin: 0.2em;color: black;border-radius: 0.25em;background-color: #f0f8ff;}#sk-container-id-1 input.sk-toggleable__control:checked~div.sk-toggleable__content {max-height: 200px;max-width: 100%;overflow: auto;}#sk-container-id-1 input.sk-toggleable__control:checked~label.sk-toggleable__label-arrow:before {content: \"▾\";}#sk-container-id-1 div.sk-estimator input.sk-toggleable__control:checked~label.sk-toggleable__label {background-color: #d4ebff;}#sk-container-id-1 div.sk-label input.sk-toggleable__control:checked~label.sk-toggleable__label {background-color: #d4ebff;}#sk-container-id-1 input.sk-hidden--visually {border: 0;clip: rect(1px 1px 1px 1px);clip: rect(1px, 1px, 1px, 1px);height: 1px;margin: -1px;overflow: hidden;padding: 0;position: absolute;width: 1px;}#sk-container-id-1 div.sk-estimator {font-family: monospace;background-color: #f0f8ff;border: 1px dotted black;border-radius: 0.25em;box-sizing: border-box;margin-bottom: 0.5em;}#sk-container-id-1 div.sk-estimator:hover {background-color: #d4ebff;}#sk-container-id-1 div.sk-parallel-item::after {content: \"\";width: 100%;border-bottom: 1px solid gray;flex-grow: 1;}#sk-container-id-1 div.sk-label:hover label.sk-toggleable__label {background-color: #d4ebff;}#sk-container-id-1 div.sk-serial::before {content: \"\";position: absolute;border-left: 1px solid gray;box-sizing: border-box;top: 0;bottom: 0;left: 50%;z-index: 0;}#sk-container-id-1 div.sk-serial {display: flex;flex-direction: column;align-items: center;background-color: white;padding-right: 0.2em;padding-left: 0.2em;position: relative;}#sk-container-id-1 div.sk-item {position: relative;z-index: 1;}#sk-container-id-1 div.sk-parallel {display: flex;align-items: stretch;justify-content: center;background-color: white;position: relative;}#sk-container-id-1 div.sk-item::before, #sk-container-id-1 div.sk-parallel-item::before {content: \"\";position: absolute;border-left: 1px solid gray;box-sizing: border-box;top: 0;bottom: 0;left: 50%;z-index: -1;}#sk-container-id-1 div.sk-parallel-item {display: flex;flex-direction: column;z-index: 1;position: relative;background-color: white;}#sk-container-id-1 div.sk-parallel-item:first-child::after {align-self: flex-end;width: 50%;}#sk-container-id-1 div.sk-parallel-item:last-child::after {align-self: flex-start;width: 50%;}#sk-container-id-1 div.sk-parallel-item:only-child::after {width: 0;}#sk-container-id-1 div.sk-dashed-wrapped {border: 1px dashed gray;margin: 0 0.4em 0.5em 0.4em;box-sizing: border-box;padding-bottom: 0.4em;background-color: white;}#sk-container-id-1 div.sk-label label {font-family: monospace;font-weight: bold;display: inline-block;line-height: 1.2em;}#sk-container-id-1 div.sk-label-container {text-align: center;}#sk-container-id-1 div.sk-container {/* jupyter's `normalize.less` sets `[hidden] { display: none; }` but bootstrap.min.css set `[hidden] { display: none !important; }` so we also need the `!important` here to be able to override the default hidden behavior on the sphinx rendered scikit-learn.org. See: https://github.com/scikit-learn/scikit-learn/issues/21755 */display: inline-block !important;position: relative;}#sk-container-id-1 div.sk-text-repr-fallback {display: none;}</style><div id=\"sk-container-id-1\" class=\"sk-top-container\"><div class=\"sk-text-repr-fallback\"><pre>Pipeline(steps=[(&#x27;TfidfVectorizer&#x27;, TfidfVectorizer(ngram_range=(2, 2))),\n",
       "                (&#x27;LatentDirichletAllocation&#x27;,\n",
       "                 LatentDirichletAllocation(n_components=2))])</pre><b>In a Jupyter environment, please rerun this cell to show the HTML representation or trust the notebook. <br />On GitHub, the HTML representation is unable to render, please try loading this page with nbviewer.org.</b></div><div class=\"sk-container\" hidden><div class=\"sk-item sk-dashed-wrapped\"><div class=\"sk-label-container\"><div class=\"sk-label sk-toggleable\"><input class=\"sk-toggleable__control sk-hidden--visually\" id=\"sk-estimator-id-1\" type=\"checkbox\" ><label for=\"sk-estimator-id-1\" class=\"sk-toggleable__label sk-toggleable__label-arrow\">Pipeline</label><div class=\"sk-toggleable__content\"><pre>Pipeline(steps=[(&#x27;TfidfVectorizer&#x27;, TfidfVectorizer(ngram_range=(2, 2))),\n",
       "                (&#x27;LatentDirichletAllocation&#x27;,\n",
       "                 LatentDirichletAllocation(n_components=2))])</pre></div></div></div><div class=\"sk-serial\"><div class=\"sk-item\"><div class=\"sk-estimator sk-toggleable\"><input class=\"sk-toggleable__control sk-hidden--visually\" id=\"sk-estimator-id-2\" type=\"checkbox\" ><label for=\"sk-estimator-id-2\" class=\"sk-toggleable__label sk-toggleable__label-arrow\">TfidfVectorizer</label><div class=\"sk-toggleable__content\"><pre>TfidfVectorizer(ngram_range=(2, 2))</pre></div></div></div><div class=\"sk-item\"><div class=\"sk-estimator sk-toggleable\"><input class=\"sk-toggleable__control sk-hidden--visually\" id=\"sk-estimator-id-3\" type=\"checkbox\" ><label for=\"sk-estimator-id-3\" class=\"sk-toggleable__label sk-toggleable__label-arrow\">LatentDirichletAllocation</label><div class=\"sk-toggleable__content\"><pre>LatentDirichletAllocation(n_components=2)</pre></div></div></div></div></div></div></div>"
      ],
      "text/plain": [
       "Pipeline(steps=[('TfidfVectorizer', TfidfVectorizer(ngram_range=(2, 2))),\n",
       "                ('LatentDirichletAllocation',\n",
       "                 LatentDirichletAllocation(n_components=2))])"
      ]
     },
     "execution_count": 19,
     "metadata": {},
     "output_type": "execute_result"
    }
   ],
   "source": [
    "pipeline.fit(df[\"clean_review\"])"
   ]
  },
  {
   "cell_type": "code",
   "execution_count": 20,
   "id": "6499def2",
   "metadata": {},
   "outputs": [],
   "source": [
    "vectorizer, model = pipeline[0], pipeline[1]"
   ]
  },
  {
   "cell_type": "code",
   "execution_count": 21,
   "id": "d99242e7",
   "metadata": {},
   "outputs": [
    {
     "name": "stdout",
     "output_type": "stream",
     "text": [
      "Topic 0:\n",
      "[('not received', 144.99383191066187), ('I received product', 115.54227650255888), ('not yet', 79.32889929301336), ('no product', 69.96027666046231), ('not delivered', 49.30835158100186), ('Product came', 45.636167456954325), ('wrong product', 38.37825447884039), ('product delivered', 37.09956597156733), ('did not like', 33.89317683974378), ('did not come', 33.220517903312)]\n",
      "Topic 1:\n",
      "[('good product', 37.66935324657181), ('good product', 36.2503703183614), ('Product came', 34.26766163799318), ('no product', 30.03986268903552), ('defective product', 29.68230910309153), ('SO I RECEIVED', 27.92961357035397), ('I bought two', 27.744310376619012), ('I do not recommend', 27.6323224928698), ('I liked product', 24.74075771809443), ('two products', 24.656978825400095)]\n"
     ]
    }
   ],
   "source": [
    "# get the main topics of the reviews\n",
    "# use Google translator to translate from portuguese to english\n",
    "\n",
    "translator = Translator()\n",
    "\n",
    "for idx, topic in enumerate(model.components_):\n",
    "    print(\"Topic %d:\" % (idx))\n",
    "    \n",
    "    print([(translator.translate(vectorizer.get_feature_names_out()[i], src=\"pt\", dest=\"en\").text, topic[i])\n",
    "           for i in topic.argsort()[:-10 - 1:-1]])"
   ]
  },
  {
   "cell_type": "markdown",
   "id": "cfb1a599",
   "metadata": {},
   "source": [
    "It seems that the bad reviews are caused by:   \n",
    "1 - delivery delay   \n",
    "2 - problem with the product itself (wrong one, wrong quantity, defective)   \n",
    "\n",
    "Let's make a deeper analysis"
   ]
  },
  {
   "cell_type": "code",
   "execution_count": 22,
   "id": "8e0faf6f",
   "metadata": {},
   "outputs": [],
   "source": [
    "# new vectorizer, with TfidfVectorizer\n",
    "\n",
    "vectorizer2 = TfidfVectorizer(ngram_range = (2, 2),\n",
    "                             min_df=0.01,\n",
    "                             max_df=0.05).fit(df[\"clean_review\"])"
   ]
  },
  {
   "cell_type": "code",
   "execution_count": 23,
   "id": "2758ca58",
   "metadata": {},
   "outputs": [
    {
     "data": {
      "text/plain": [
       "(9599, 53180)"
      ]
     },
     "execution_count": 23,
     "metadata": {},
     "output_type": "execute_result"
    }
   ],
   "source": [
    "# transform the cleaned reviews into vectors\n",
    "vectors = pd.DataFrame(vectorizer.transform(df[\"clean_review\"]).toarray(),\n",
    "                       columns = vectorizer.get_feature_names_out())\n",
    "vectors.shape"
   ]
  },
  {
   "cell_type": "code",
   "execution_count": 24,
   "id": "5991bf8d",
   "metadata": {},
   "outputs": [
    {
     "data": {
      "text/plain": [
       "(53180,)"
      ]
     },
     "execution_count": 24,
     "metadata": {},
     "output_type": "execute_result"
    }
   ],
   "source": [
    "# sum the components of each vectors\n",
    "sum_tfidf = vectors.sum(axis = 0)\n",
    "sum_tfidf.shape"
   ]
  },
  {
   "cell_type": "code",
   "execution_count": 25,
   "id": "c5806858",
   "metadata": {},
   "outputs": [
    {
     "data": {
      "text/plain": [
       "53180"
      ]
     },
     "execution_count": 25,
     "metadata": {},
     "output_type": "execute_result"
    }
   ],
   "source": [
    "# list of words and weight\n",
    "tfidf_list = [(word, sum_tfidf[word]) \n",
    "              for word, idx in vectorizer.vocabulary_.items() \n",
    "              if word in vectorizer.vocabulary_.keys() ]\n",
    "len(tfidf_list)"
   ]
  },
  {
   "cell_type": "code",
   "execution_count": 29,
   "id": "69cb41d0",
   "metadata": {},
   "outputs": [
    {
     "data": {
      "text/plain": [
       "[('nao recebi', 153.44975401815063),\n",
       " ('recebi produto', 120.38649776008641),\n",
       " ('produto nao', 99.00013934951842),\n",
       " ('ainda nao', 81.53229412149304),\n",
       " ('produto veio', 78.90382909496803),\n",
       " ('nao entregue', 56.434617957759606),\n",
       " ('nao gostei', 53.42165795526988),\n",
       " ('so recebi', 53.401861134327255),\n",
       " ('nao recomendo', 52.51305502454542),\n",
       " ('produto entregue', 50.189472437204266)]"
      ]
     },
     "execution_count": 29,
     "metadata": {},
     "output_type": "execute_result"
    }
   ],
   "source": [
    "# sort the tfidf_list\n",
    "sorted_tfidf_list = sorted(tfidf_list, key = lambda x: x[1], reverse=True)\n",
    "sorted_tfidf_list[:10]"
   ]
  },
  {
   "cell_type": "code",
   "execution_count": 30,
   "id": "cc8b4bf6",
   "metadata": {},
   "outputs": [
    {
     "data": {
      "text/plain": [
       "[('not received', 153.45),\n",
       " ('I received product', 120.39),\n",
       " ('no product', 99.0),\n",
       " ('not yet', 81.53),\n",
       " ('Product came', 78.9),\n",
       " ('not delivered', 56.43),\n",
       " ('did not like', 53.42),\n",
       " ('SO I RECEIVED', 53.4),\n",
       " ('I do not recommend', 52.51),\n",
       " ('product delivered', 50.19),\n",
       " ('I received only', 46.8),\n",
       " ('Product arrived', 45.59),\n",
       " ('did not come', 43.98),\n",
       " ('did not arrive', 41.52),\n",
       " ('invoice', 39.39),\n",
       " ('wrong product', 39.12),\n",
       " ('good product', 38.19),\n",
       " ('Come defect', 36.46),\n",
       " ('good product', 35.94),\n",
       " ('I bought two', 35.84),\n",
       " ('does not work', 33.56),\n",
       " ('yet', 33.38),\n",
       " ('rather', 32.85),\n",
       " ('pessimal quality', 31.15),\n",
       " ('defective product', 29.85),\n",
       " ('within', 29.62),\n",
       " ('so far', 29.31),\n",
       " ('I liked product', 28.69),\n",
       " ('I bought product', 27.89),\n",
       " ('deadline', 27.4),\n",
       " ('Wrong came', 26.38),\n",
       " ('came missing', 25.13),\n",
       " ('two products', 24.77),\n",
       " ('just came', 23.41),\n",
       " ('product bought', 23.23),\n",
       " ('I bought two', 23.03),\n",
       " ('product yet', 22.17),\n",
       " ('I received only', 21.0),\n",
       " ('just arrived', 20.93),\n",
       " ('delay delivery', 20.91),\n",
       " ('different product', 20.61),\n",
       " ('I can not', 20.54),\n",
       " ('but no', 19.9),\n",
       " ('pessimal product', 18.89),\n",
       " ('fast delivery', 18.62),\n",
       " ('not delivered', 18.24),\n",
       " ('Product Quality', 17.93),\n",
       " ('another product', 17.86),\n",
       " ('I recommend product', 17.78),\n",
       " ('not now', 17.69)]"
      ]
     },
     "execution_count": 30,
     "metadata": {},
     "output_type": "execute_result"
    }
   ],
   "source": [
    "# use Google translator to translate from portuguese to english and round the weights\n",
    "\n",
    "translator = Translator()\n",
    "translated_sorted_tfidf_list = [\n",
    "    (translator.translate(t, src=\"pt\", dest=\"en\").text, round(w, 2)) for t, w in sorted_tfidf_list[:50]]\n",
    "\n",
    "translated_sorted_tfidf_list"
   ]
  },
  {
   "cell_type": "markdown",
   "id": "a169f8f4",
   "metadata": {},
   "source": [
    "This confirm the previous analysis:\n",
    "\n",
    "1 - delivery issues: delay and no delivery   \n",
    "2 - problem with the product itself (bad quality, defective product, wrong product, wrong quantity)   "
   ]
  },
  {
   "cell_type": "code",
   "execution_count": null,
   "id": "bf6344ba",
   "metadata": {},
   "outputs": [],
   "source": []
  }
 ],
 "metadata": {
  "kernelspec": {
   "display_name": "Python 3 (ipykernel)",
   "language": "python",
   "name": "python3"
  },
  "language_info": {
   "codemirror_mode": {
    "name": "ipython",
    "version": 3
   },
   "file_extension": ".py",
   "mimetype": "text/x-python",
   "name": "python",
   "nbconvert_exporter": "python",
   "pygments_lexer": "ipython3",
   "version": "3.8.12"
  },
  "toc": {
   "base_numbering": 1,
   "nav_menu": {},
   "number_sections": true,
   "sideBar": true,
   "skip_h1_title": false,
   "title_cell": "Table of Contents",
   "title_sidebar": "Contents",
   "toc_cell": false,
   "toc_position": {},
   "toc_section_display": true,
   "toc_window_display": false
  }
 },
 "nbformat": 4,
 "nbformat_minor": 5
}

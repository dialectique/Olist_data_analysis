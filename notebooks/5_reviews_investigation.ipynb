{
 "cells": [
  {
   "cell_type": "markdown",
   "id": "bcb18924",
   "metadata": {},
   "source": [
    "# Analysis of Olist reviews "
   ]
  },
  {
   "cell_type": "markdown",
   "id": "c40327b0",
   "metadata": {},
   "source": [
    "Analyse the Olist reviews to understand what could be the causes of the bad review scores."
   ]
  },
  {
   "cell_type": "code",
   "execution_count": 129,
   "id": "811387bd",
   "metadata": {},
   "outputs": [],
   "source": [
    "# import modules \n",
    "\n",
    "import pandas as pd\n",
    "import numpy as np \n",
    "import string\n",
    "import unidecode\n",
    "\n",
    "from nltk.tokenize import word_tokenize\n",
    "from nltk.corpus import stopwords \n",
    "\n",
    "from olistpackage.data import Olist"
   ]
  },
  {
   "cell_type": "code",
   "execution_count": null,
   "id": "e3f5eb66",
   "metadata": {},
   "outputs": [],
   "source": [
    "# magic commands\n",
    "\n",
    "%load_ext autoreload\n",
    "%autoreload 2"
   ]
  },
  {
   "cell_type": "code",
   "execution_count": 131,
   "id": "54df7e88",
   "metadata": {},
   "outputs": [],
   "source": [
    "# Instantiate the Olist class \n",
    "# which main purpose is downloading Olist csv files.\n",
    "\n",
    "olist = Olist()"
   ]
  },
  {
   "cell_type": "code",
   "execution_count": 132,
   "id": "df279ff7",
   "metadata": {},
   "outputs": [
    {
     "name": "stdout",
     "output_type": "stream",
     "text": [
      "The Olist csv files are already downloaded.\n"
     ]
    }
   ],
   "source": [
    "# Download Olist csv files in root/data/csv folder.\n",
    "# If all the csv files exists already, do nothing.\n",
    "# Uses the Kaggle Official API for donwloading Olist csv files.\n",
    "# Kaggle Official API credentials are asked by opendatasets.download().\n",
    "# Sign in to https://kaggle.com/, then click on your profile picture\n",
    "# on the top right and select \"My Account\" from the menu.\n",
    "# Scroll down to the \"API\" section and click \"Create New API Token\".\n",
    "# This will download a file kaggle.json with the following contents:\n",
    "# {\"username\":\"YOUR_KAGGLE_USERNAME\",\"key\":\"YOUR_KAGGLE_KEY\"}\n",
    "\n",
    "olist.download_data()"
   ]
  },
  {
   "cell_type": "code",
   "execution_count": 133,
   "id": "2db050a8",
   "metadata": {},
   "outputs": [],
   "source": [
    "# get the Olist csv files data into a dictionary of dataframes\n",
    "data = olist.get_data()"
   ]
  },
  {
   "cell_type": "code",
   "execution_count": 134,
   "id": "c82882e0",
   "metadata": {},
   "outputs": [],
   "source": [
    "df = data['order_reviews'].merge(data['orders'], on=\"order_id\", how=\"inner\")"
   ]
  },
  {
   "cell_type": "code",
   "execution_count": 135,
   "id": "a18bb6b6",
   "metadata": {},
   "outputs": [
    {
     "data": {
      "text/plain": [
       "(99224, 14)"
      ]
     },
     "execution_count": 135,
     "metadata": {},
     "output_type": "execute_result"
    }
   ],
   "source": [
    "df.shape"
   ]
  },
  {
   "cell_type": "code",
   "execution_count": 136,
   "id": "34b701e9",
   "metadata": {},
   "outputs": [
    {
     "data": {
      "text/plain": [
       "40977"
      ]
     },
     "execution_count": 136,
     "metadata": {},
     "output_type": "execute_result"
    }
   ],
   "source": [
    "df[\"review_comment_message\"].count()"
   ]
  },
  {
   "cell_type": "code",
   "execution_count": 137,
   "id": "80539105",
   "metadata": {},
   "outputs": [
    {
     "data": {
      "text/plain": [
       "Index(['review_id', 'order_id', 'review_score', 'review_comment_title',\n",
       "       'review_comment_message', 'review_creation_date',\n",
       "       'review_answer_timestamp', 'customer_id', 'order_status',\n",
       "       'order_purchase_timestamp', 'order_approved_at',\n",
       "       'order_delivered_carrier_date', 'order_delivered_customer_date',\n",
       "       'order_estimated_delivery_date'],\n",
       "      dtype='object')"
      ]
     },
     "execution_count": 137,
     "metadata": {},
     "output_type": "execute_result"
    }
   ],
   "source": [
    "df.columns"
   ]
  },
  {
   "cell_type": "code",
   "execution_count": 138,
   "id": "627093fd",
   "metadata": {},
   "outputs": [
    {
     "data": {
      "text/plain": [
       "review_id                        object\n",
       "order_id                         object\n",
       "review_score                      int64\n",
       "review_comment_title             object\n",
       "review_comment_message           object\n",
       "review_creation_date             object\n",
       "review_answer_timestamp          object\n",
       "customer_id                      object\n",
       "order_status                     object\n",
       "order_purchase_timestamp         object\n",
       "order_approved_at                object\n",
       "order_delivered_carrier_date     object\n",
       "order_delivered_customer_date    object\n",
       "order_estimated_delivery_date    object\n",
       "dtype: object"
      ]
     },
     "execution_count": 138,
     "metadata": {},
     "output_type": "execute_result"
    }
   ],
   "source": [
    "df.dtypes"
   ]
  },
  {
   "cell_type": "code",
   "execution_count": 139,
   "id": "471b3745",
   "metadata": {},
   "outputs": [
    {
     "data": {
      "text/plain": [
       "review_id                        58247\n",
       "order_id                         58247\n",
       "review_score                     58247\n",
       "review_comment_title              1729\n",
       "review_comment_message               0\n",
       "review_creation_date             58247\n",
       "review_answer_timestamp          58247\n",
       "customer_id                      58247\n",
       "order_status                     58247\n",
       "order_purchase_timestamp         58247\n",
       "order_approved_at                58193\n",
       "order_delivered_carrier_date     57688\n",
       "order_delivered_customer_date    57259\n",
       "order_estimated_delivery_date    58247\n",
       "dtype: int64"
      ]
     },
     "execution_count": 139,
     "metadata": {},
     "output_type": "execute_result"
    }
   ],
   "source": [
    "df.query('review_comment_message != review_comment_message').count()"
   ]
  },
  {
   "cell_type": "code",
   "execution_count": 140,
   "id": "045fe206",
   "metadata": {},
   "outputs": [],
   "source": [
    "# combine review title and review message\n",
    "df[\"review_title_and_message\"] = df[\"review_comment_title\"].fillna(\"\") \\\n",
    "    + \" \" + df[\"review_comment_message\"].fillna(\"\")"
   ]
  },
  {
   "cell_type": "code",
   "execution_count": 141,
   "id": "695b1732",
   "metadata": {},
   "outputs": [
    {
     "data": {
      "text/plain": [
       "(88039, 15)"
      ]
     },
     "execution_count": 141,
     "metadata": {},
     "output_type": "execute_result"
    }
   ],
   "source": [
    "# Customers could review an order before receiving it\n",
    "# Let's consider reviews written only after receiving the order \n",
    "\n",
    "df = df.query(\"review_creation_date >= order_delivered_customer_date\")\n",
    "df.shape"
   ]
  },
  {
   "cell_type": "code",
   "execution_count": 142,
   "id": "627a7e69",
   "metadata": {},
   "outputs": [],
   "source": [
    "# Cleaning the reviews\n",
    "\n",
    "def remove_punctuation(text=\"\"):\n",
    "    return \"\".join([char for char in text if char not in string.punctuation])\n",
    "\n",
    "def lower_case(text=\"\"):\n",
    "    return text.lower()\n",
    "\n",
    "def remove_number(text=\"\"):\n",
    "    return \"\".join([char for char in text if not char.isdigit()])\n",
    "\n",
    "def remove_accents_diacritics(text=\"\"):\n",
    "    return unidecode.unidecode(text)\n",
    "\n",
    "def tokenize(text=\"\"):\n",
    "    return word_tokenize(text)\n",
    "    \n",
    "\n",
    "def stop_words(text=\"\"):\n",
    "    return \" \".join([word for word in text if word not in stopwords.words(\"portuguese\")])\n",
    "\n",
    "funcs = [\n",
    "    remove_punctuation,\n",
    "    lower_case,\n",
    "    remove_number,\n",
    "    remove_accents_diacritics,\n",
    "    tokenize,\n",
    "    stop_words\n",
    "]\n",
    "\n",
    "def clean(text=\"\"):\n",
    "    for f in funcs:\n",
    "        text = f(text)\n",
    "    return text"
   ]
  },
  {
   "cell_type": "code",
   "execution_count": 143,
   "id": "92100059",
   "metadata": {},
   "outputs": [],
   "source": [
    "df[\"clean_review\"] = df[\"review_title_and_message\"].apply(clean)"
   ]
  },
  {
   "cell_type": "code",
   "execution_count": 144,
   "id": "6c6400b2",
   "metadata": {},
   "outputs": [
    {
     "data": {
      "text/plain": [
       "0                                                         \n",
       "1                                                         \n",
       "2                                                         \n",
       "3                        recebi bem antes prazo estipulado\n",
       "4        parabens lojas lannister adorei comprar intern...\n",
       "                               ...                        \n",
       "99219                                                     \n",
       "99220                                                     \n",
       "99221    excelente mochila entrega super rapida super r...\n",
       "99222                                                     \n",
       "99223    produto chegou ja devolver pois defeito nao se...\n",
       "Name: clean_review, Length: 88039, dtype: object"
      ]
     },
     "execution_count": 144,
     "metadata": {},
     "output_type": "execute_result"
    }
   ],
   "source": [
    "df[\"clean_review\"]"
   ]
  },
  {
   "cell_type": "code",
   "execution_count": 145,
   "id": "d95ca2a9",
   "metadata": {},
   "outputs": [
    {
     "data": {
      "text/plain": [
       "(35983, 16)"
      ]
     },
     "execution_count": 145,
     "metadata": {},
     "output_type": "execute_result"
    }
   ],
   "source": [
    "# drop the empty reviews\n",
    "df = df[df[\"clean_review\"] != \"\"]\n",
    "df.shape"
   ]
  },
  {
   "cell_type": "code",
   "execution_count": 107,
   "id": "d30c3a1d",
   "metadata": {},
   "outputs": [
    {
     "data": {
      "text/plain": [
       "array([4, 5, 1, 3, 2])"
      ]
     },
     "execution_count": 107,
     "metadata": {},
     "output_type": "execute_result"
    }
   ],
   "source": [
    "# Check the unique values of reviews score\n",
    "df['review_score'].unique()"
   ]
  },
  {
   "cell_type": "code",
   "execution_count": 146,
   "id": "81b42ebf",
   "metadata": {},
   "outputs": [
    {
     "data": {
      "text/plain": [
       "5    0.57\n",
       "4    0.16\n",
       "1    0.13\n",
       "3    0.09\n",
       "2    0.05\n",
       "Name: review_score, dtype: float64"
      ]
     },
     "execution_count": 146,
     "metadata": {},
     "output_type": "execute_result"
    }
   ],
   "source": [
    "# review score distribution\n",
    "round(df[\"review_score\"].value_counts(normalize = True), 2)"
   ]
  },
  {
   "cell_type": "markdown",
   "id": "4d4eb750",
   "metadata": {},
   "source": [
    "More than 25% of the orders with a review have a score equal or below to 3.\n",
    "Let's focus on those orders' reviews."
   ]
  },
  {
   "cell_type": "code",
   "execution_count": 149,
   "id": "7f5764cf",
   "metadata": {},
   "outputs": [],
   "source": [
    "df = df[df[\"review_score\"]<=3]"
   ]
  },
  {
   "cell_type": "code",
   "execution_count": 150,
   "id": "1bc7a203",
   "metadata": {},
   "outputs": [
    {
     "data": {
      "text/plain": [
       "(9599, 16)"
      ]
     },
     "execution_count": 150,
     "metadata": {},
     "output_type": "execute_result"
    }
   ],
   "source": [
    "df.shape"
   ]
  },
  {
   "cell_type": "code",
   "execution_count": null,
   "id": "db5c02ba",
   "metadata": {},
   "outputs": [],
   "source": []
  }
 ],
 "metadata": {
  "kernelspec": {
   "display_name": "Python 3 (ipykernel)",
   "language": "python",
   "name": "python3"
  },
  "language_info": {
   "codemirror_mode": {
    "name": "ipython",
    "version": 3
   },
   "file_extension": ".py",
   "mimetype": "text/x-python",
   "name": "python",
   "nbconvert_exporter": "python",
   "pygments_lexer": "ipython3",
   "version": "3.8.12"
  },
  "toc": {
   "base_numbering": 1,
   "nav_menu": {},
   "number_sections": true,
   "sideBar": true,
   "skip_h1_title": false,
   "title_cell": "Table of Contents",
   "title_sidebar": "Contents",
   "toc_cell": false,
   "toc_position": {},
   "toc_section_display": true,
   "toc_window_display": false
  }
 },
 "nbformat": 4,
 "nbformat_minor": 5
}
